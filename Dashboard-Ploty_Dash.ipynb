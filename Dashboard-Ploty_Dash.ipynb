{
    "cells": [
        {
            "cell_type": "markdown",
            "metadata": {
                "collapsed": true
            },
            "source": "'''\nBuild a Dashboard Application with Plotly Dash\n----------------------------------------------\nIn this lab, you will be building a Plotly Dash \napplication for users to perform interactive visual analytics \non SpaceX launch data in real-time.\n'''"
        },
        {
            "cell_type": "code",
            "execution_count": 1,
            "metadata": {},
            "outputs": [
                {
                    "name": "stdout",
                    "output_type": "stream",
                    "text": "Collecting wget\n  Downloading wget-3.2.zip (10 kB)\nBuilding wheels for collected packages: wget\n  Building wheel for wget (setup.py) ... \u001b[?25ldone\n\u001b[?25h  Created wheel for wget: filename=wget-3.2-py3-none-any.whl size=9672 sha256=59f9f0400fbeb37455a6281bdf3b513b2c83a17f4b82ca435133877c4a6d310c\n  Stored in directory: /tmp/wsuser/.cache/pip/wheels/04/5f/3e/46cc37c5d698415694d83f607f833f83f0149e49b3af9d0f38\nSuccessfully built wget\nInstalling collected packages: wget\nSuccessfully installed wget-3.2\nRequirement already satisfied: pandas in /opt/conda/envs/Python-3.9/lib/python3.9/site-packages (1.3.4)\nCollecting dash\n  Downloading dash-2.7.1-py3-none-any.whl (9.9 MB)\n\u001b[K     |\u2588\u2588\u2588\u2588\u2588\u2588\u2588\u2588\u2588\u2588\u2588\u2588\u2588\u2588\u2588\u2588\u2588\u2588\u2588\u2588\u2588\u2588\u2588\u2588\u2588\u2588\u2588\u2588\u2588\u2588\u2588\u2588| 9.9 MB 17.5 MB/s eta 0:00:01\n\u001b[?25hRequirement already satisfied: python-dateutil>=2.7.3 in /opt/conda/envs/Python-3.9/lib/python3.9/site-packages (from pandas) (2.8.2)\nRequirement already satisfied: pytz>=2017.3 in /opt/conda/envs/Python-3.9/lib/python3.9/site-packages (from pandas) (2021.3)\nRequirement already satisfied: numpy>=1.17.3 in /opt/conda/envs/Python-3.9/lib/python3.9/site-packages (from pandas) (1.20.3)\nRequirement already satisfied: plotly>=5.0.0 in /opt/conda/envs/Python-3.9/lib/python3.9/site-packages (from dash) (5.1.0)\nCollecting dash-core-components==2.0.0\n  Downloading dash_core_components-2.0.0-py3-none-any.whl (3.8 kB)\nCollecting Flask>=1.0.4\n  Downloading Flask-2.2.2-py3-none-any.whl (101 kB)\n\u001b[K     |\u2588\u2588\u2588\u2588\u2588\u2588\u2588\u2588\u2588\u2588\u2588\u2588\u2588\u2588\u2588\u2588\u2588\u2588\u2588\u2588\u2588\u2588\u2588\u2588\u2588\u2588\u2588\u2588\u2588\u2588\u2588\u2588| 101 kB 21.9 MB/s ta 0:00:01\n\u001b[?25hCollecting dash-table==5.0.0\n  Downloading dash_table-5.0.0-py3-none-any.whl (3.9 kB)\nCollecting dash-html-components==2.0.0\n  Downloading dash_html_components-2.0.0-py3-none-any.whl (4.1 kB)\nRequirement already satisfied: click>=8.0 in /opt/conda/envs/Python-3.9/lib/python3.9/site-packages (from Flask>=1.0.4->dash) (8.0.4)\nRequirement already satisfied: importlib-metadata>=3.6.0 in /opt/conda/envs/Python-3.9/lib/python3.9/site-packages (from Flask>=1.0.4->dash) (4.8.2)\nRequirement already satisfied: Jinja2>=3.0 in /opt/conda/envs/Python-3.9/lib/python3.9/site-packages (from Flask>=1.0.4->dash) (3.0.2)\nCollecting Werkzeug>=2.2.2\n  Downloading Werkzeug-2.2.2-py3-none-any.whl (232 kB)\n\u001b[K     |\u2588\u2588\u2588\u2588\u2588\u2588\u2588\u2588\u2588\u2588\u2588\u2588\u2588\u2588\u2588\u2588\u2588\u2588\u2588\u2588\u2588\u2588\u2588\u2588\u2588\u2588\u2588\u2588\u2588\u2588\u2588\u2588| 232 kB 82.3 MB/s eta 0:00:01\n\u001b[?25hCollecting itsdangerous>=2.0\n  Downloading itsdangerous-2.1.2-py3-none-any.whl (15 kB)\nRequirement already satisfied: zipp>=0.5 in /opt/conda/envs/Python-3.9/lib/python3.9/site-packages (from importlib-metadata>=3.6.0->Flask>=1.0.4->dash) (3.6.0)\nRequirement already satisfied: MarkupSafe>=2.0 in /opt/conda/envs/Python-3.9/lib/python3.9/site-packages (from Jinja2>=3.0->Flask>=1.0.4->dash) (2.0.1)\nRequirement already satisfied: six in /opt/conda/envs/Python-3.9/lib/python3.9/site-packages (from plotly>=5.0.0->dash) (1.15.0)\nRequirement already satisfied: tenacity>=6.2.0 in /opt/conda/envs/Python-3.9/lib/python3.9/site-packages (from plotly>=5.0.0->dash) (8.0.1)\nCollecting MarkupSafe>=2.0\n  Downloading MarkupSafe-2.1.1-cp39-cp39-manylinux_2_17_x86_64.manylinux2014_x86_64.whl (25 kB)\nInstalling collected packages: MarkupSafe, Werkzeug, itsdangerous, Flask, dash-table, dash-html-components, dash-core-components, dash\n  Attempting uninstall: MarkupSafe\n    Found existing installation: MarkupSafe 2.0.1\n    Uninstalling MarkupSafe-2.0.1:\n      Successfully uninstalled MarkupSafe-2.0.1\n  Attempting uninstall: Werkzeug\n    Found existing installation: Werkzeug 2.0.2\n    Uninstalling Werkzeug-2.0.2:\n      Successfully uninstalled Werkzeug-2.0.2\nSuccessfully installed Flask-2.2.2 MarkupSafe-2.1.1 Werkzeug-2.2.2 dash-2.7.1 dash-core-components-2.0.0 dash-html-components-2.0.0 dash-table-5.0.0 itsdangerous-2.1.2\n"
                }
            ],
            "source": "!pip3 install wget\n!pip3 install pandas dash"
        },
        {
            "cell_type": "code",
            "execution_count": 2,
            "metadata": {},
            "outputs": [],
            "source": "import wget\nimport dash\nfrom dash import html\nfrom dash import dcc\nfrom dash.dependencies import Input, Output\nimport pandas as pd\nimport plotly.express as px"
        },
        {
            "cell_type": "code",
            "execution_count": 3,
            "metadata": {},
            "outputs": [
                {
                    "data": {
                        "text/html": "<div>\n<style scoped>\n    .dataframe tbody tr th:only-of-type {\n        vertical-align: middle;\n    }\n\n    .dataframe tbody tr th {\n        vertical-align: top;\n    }\n\n    .dataframe thead th {\n        text-align: right;\n    }\n</style>\n<table border=\"1\" class=\"dataframe\">\n  <thead>\n    <tr style=\"text-align: right;\">\n      <th></th>\n      <th>Unnamed: 0</th>\n      <th>Flight Number</th>\n      <th>Launch Site</th>\n      <th>class</th>\n      <th>Payload Mass (kg)</th>\n      <th>Booster Version</th>\n      <th>Booster Version Category</th>\n    </tr>\n  </thead>\n  <tbody>\n    <tr>\n      <th>0</th>\n      <td>0</td>\n      <td>1</td>\n      <td>CCAFS LC-40</td>\n      <td>0</td>\n      <td>0.0</td>\n      <td>F9 v1.0  B0003</td>\n      <td>v1.0</td>\n    </tr>\n    <tr>\n      <th>1</th>\n      <td>1</td>\n      <td>2</td>\n      <td>CCAFS LC-40</td>\n      <td>0</td>\n      <td>0.0</td>\n      <td>F9 v1.0  B0004</td>\n      <td>v1.0</td>\n    </tr>\n    <tr>\n      <th>2</th>\n      <td>2</td>\n      <td>3</td>\n      <td>CCAFS LC-40</td>\n      <td>0</td>\n      <td>525.0</td>\n      <td>F9 v1.0  B0005</td>\n      <td>v1.0</td>\n    </tr>\n    <tr>\n      <th>3</th>\n      <td>3</td>\n      <td>4</td>\n      <td>CCAFS LC-40</td>\n      <td>0</td>\n      <td>500.0</td>\n      <td>F9 v1.0  B0006</td>\n      <td>v1.0</td>\n    </tr>\n    <tr>\n      <th>4</th>\n      <td>4</td>\n      <td>5</td>\n      <td>CCAFS LC-40</td>\n      <td>0</td>\n      <td>677.0</td>\n      <td>F9 v1.0  B0007</td>\n      <td>v1.0</td>\n    </tr>\n  </tbody>\n</table>\n</div>",
                        "text/plain": "   Unnamed: 0  Flight Number  Launch Site  class  Payload Mass (kg)  \\\n0           0              1  CCAFS LC-40      0                0.0   \n1           1              2  CCAFS LC-40      0                0.0   \n2           2              3  CCAFS LC-40      0              525.0   \n3           3              4  CCAFS LC-40      0              500.0   \n4           4              5  CCAFS LC-40      0              677.0   \n\n  Booster Version Booster Version Category  \n0  F9 v1.0  B0003                     v1.0  \n1  F9 v1.0  B0004                     v1.0  \n2  F9 v1.0  B0005                     v1.0  \n3  F9 v1.0  B0006                     v1.0  \n4  F9 v1.0  B0007                     v1.0  "
                    },
                    "execution_count": 3,
                    "metadata": {},
                    "output_type": "execute_result"
                }
            ],
            "source": "spacex_csv_file = wget.download(\"https://cf-courses-data.s3.us.cloud-object-storage.appdomain.cloud/IBM-DS0321EN-SkillsNetwork/datasets/spacex_launch_dash.csv\")\nspacex_df=pd.read_csv(spacex_csv_file)\nspacex_df.head()"
        },
        {
            "cell_type": "code",
            "execution_count": 4,
            "metadata": {},
            "outputs": [],
            "source": "app = dash.Dash(__name__)\n\nmax_payload = spacex_df['Payload Mass (kg)'].max()\nmin_payload = spacex_df['Payload Mass (kg)'].min()\n\nunique_launch_sites = spacex_df['Launch Site'].unique().tolist()\nlaunch_sites = []\nlaunch_sites.append({'label': 'All Sites', 'value': 'All Sites'})\nfor launch_site in unique_launch_sites:\n    launch_sites.append({'label': launch_site, 'value': launch_site})\n\napp.layout = html.Div(children=[\n    html.Div([\n        html.H1('SpaceX Launch Records Dashboard',\n            style={'textAlign': 'center', 'color': '#503D36','font-size': 40}),\n    ]),\n    \n    html.Div([\n        # TASK 1: Add a Launch Site Drop-down Input Component\n        dcc.Dropdown(\n                id = 'site-dropdown',\n                options = launch_sites,\n                placeholder = 'Select a Launch Site here',\n                searchable = True ,\n                clearable = False,\n                value = 'All Sites'\n            ),\n        # TASK 2: Add a callback function to render success-pie-chart based on selected site dropdown\n        html.Div(dcc.Graph(id='success-pie-chart')),\n    ], style={'padding': '0 30px'}),\n\n    html.Div([\n        # TASK 3: Add a Range Slider to Select Payload\n        html.Div(\"Payload range (Kg):\", \n            style={'color': '#503D36','font-size': 20, 'padding': '0 30px', 'margin-left': '11px'}\n            ),\n        html.Div([\n            dcc.RangeSlider(\n                id = 'payload_slider',\n                min = 0,\n                max = 10000,\n                step = 1000,\n                marks = {\n                        0: {'label': '0 Kg', 'style': {'color': '#77b0b1'}},\n                        1000: {'label': '1000 Kg'},\n                        2000: {'label': '2000 Kg'},\n                        3000: {'label': '3000 Kg'},\n                        4000: {'label': '4000 Kg'},\n                        5000: {'label': '5000 Kg'},\n                        6000: {'label': '6000 Kg'},\n                        7000: {'label': '7000 Kg'},\n                        8000: {'label': '8000 Kg'},\n                        9000: {'label': '9000 Kg'},\n                        10000: {'label': '10000 Kg', 'style': {'color': '#f50'}},\n                },\n                value = [min_payload,max_payload]\n            ),\n        ], style={'padding': '40px 30px'}),\n\n        # TASK 4: Add a callback function to render the success-payload-scatter-chart scatter plot\n        html.Div(dcc.Graph(id = 'success-payload-scatter-chart')),\n    ]),\n],style={'padding': '0 20px'})\n"
        },
        {
            "cell_type": "code",
            "execution_count": 5,
            "metadata": {},
            "outputs": [],
            "source": "# TASK 2: success-pie-chart callback based on selected site dropdown\n@app.callback(\n     Output(component_id = 'success-pie-chart', component_property = 'figure'),\n     [Input(component_id = 'site-dropdown', component_property = 'value')]\n)\ndef update_piegraph(site_dropdown):\n    if (site_dropdown == 'All Sites' or site_dropdown == 'None'):\n        all_sites  = spacex_df[spacex_df['class'] == 1] # All Success only for all sites.\n        fig = px.pie(\n                all_sites,\n                names = 'Launch Site',\n                title = 'Total Success Launches by All Sites',\n                hole = .2,\n                color_discrete_sequence = px.colors.sequential.RdBu\n            )\n    else:\n        site_specific  = spacex_df.loc[spacex_df['Launch Site'] == site_dropdown]\n        fig = px.pie(\n                site_specific,\n                names = 'class',\n                title = 'Total Success Launches for Site &#8608; '+site_dropdown,\n                hole = .2\n            )\n    return fig\n\n# TASK 3, 4: Range Slider or Scatter Chart Callback\n@app.callback(\n     Output(component_id = 'success-payload-scatter-chart', component_property = 'figure'),\n     [Input(component_id = 'site-dropdown', component_property = 'value'), \n     Input(component_id = \"payload_slider\", component_property = \"value\")]\n)\ndef update_scattergraph(site_dropdown,payload_slider):\n    if (site_dropdown == 'All Sites' or site_dropdown == 'None'):\n        low, high = payload_slider\n        all_sites  = spacex_df\n        inrange = (all_sites['Payload Mass (kg)'] > low) & (all_sites['Payload Mass (kg)'] < high)\n        fig = px.scatter(\n                all_sites[inrange], \n                x = \"Payload Mass (kg)\", \n                y = \"class\",\n                title = 'Correlation Between Payload and Success for All Sites',\n                color=\"Booster Version Category\",\n                size='Payload Mass (kg)',\n                hover_data=['Payload Mass (kg)']\n            )\n    else:\n        low, high = payload_slider\n        site_specific  = spacex_df.loc[spacex_df['Launch Site'] == site_dropdown]\n        inrange = (site_specific['Payload Mass (kg)'] > low) & (site_specific['Payload Mass (kg)'] < high)\n        fig = px.scatter(\n                site_specific[inrange],\n                x = \"Payload Mass (kg)\",\n                y = \"class\",\n                title = 'Correlation Between Payload and Success for Site &#8608; '+site_dropdown,\n                color=\"Booster Version Category\",\n                size='Payload Mass (kg)',\n                hover_data=['Payload Mass (kg)']\n            )\n    return fig\n\n"
        },
        {
            "cell_type": "code",
            "execution_count": 6,
            "metadata": {},
            "outputs": [
                {
                    "name": "stdout",
                    "output_type": "stream",
                    "text": "Dash is running on http://127.0.0.1:8050/\n\n * Serving Flask app '__main__'\n * Debug mode: off\n"
                },
                {
                    "name": "stderr",
                    "output_type": "stream",
                    "text": "\u001b[31m\u001b[1mWARNING: This is a development server. Do not use it in a production deployment. Use a production WSGI server instead.\u001b[0m\n * Running on http://127.0.0.1:8050\n\u001b[33mPress CTRL+C to quit\u001b[0m\n"
                }
            ],
            "source": "if __name__ == '__main__':\n    app.run_server()"
        },
        {
            "cell_type": "code",
            "execution_count": null,
            "metadata": {},
            "outputs": [],
            "source": ""
        }
    ],
    "metadata": {
        "kernelspec": {
            "display_name": "Python 3.9",
            "language": "python",
            "name": "python3"
        },
        "language_info": {
            "codemirror_mode": {
                "name": "ipython",
                "version": 3
            },
            "file_extension": ".py",
            "mimetype": "text/x-python",
            "name": "python",
            "nbconvert_exporter": "python",
            "pygments_lexer": "ipython3",
            "version": "3.9.13"
        }
    },
    "nbformat": 4,
    "nbformat_minor": 1
}